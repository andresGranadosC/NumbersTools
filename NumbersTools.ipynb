{
 "cells": [
  {
   "cell_type": "code",
   "execution_count": 1,
   "metadata": {},
   "outputs": [],
   "source": [
    "import numpy as np"
   ]
  },
  {
   "cell_type": "code",
   "execution_count": null,
   "metadata": {},
   "outputs": [],
   "source": []
  },
  {
   "cell_type": "markdown",
   "metadata": {},
   "source": [
    "# Fibonacci sequence\n",
    "\n",
    "This loop prints the Fibonacci sequence until the $n$ element. For example the first 50 Fibonacci sequence numbers"
   ]
  },
  {
   "cell_type": "code",
   "execution_count": 6,
   "metadata": {},
   "outputs": [
    {
     "name": "stdout",
     "output_type": "stream",
     "text": [
      "Fibonacci sequence: [0, 1, 1, 2, 3, 5, 8, 13, 21, 34, 55, 89, 144, 233, 377, 610, 987, 1597, 2584, 4181, 6765, 10946, 17711, 28657, 46368, 75025, 121393, 196418, 317811, 514229, 832040, 1346269, 2178309, 3524578, 5702887, 9227465, 14930352, 24157817, 39088169, 63245986, 102334155, 165580141, 267914296, 433494437, 701408733, 1134903170, 1836311903, 2971215073, 4807526976, 7778742049]\n"
     ]
    }
   ],
   "source": [
    "n=50\n",
    "\n",
    "f_0 = 0\n",
    "f_1 = 1\n",
    "Fibonacci = [f_0, f_1]\n",
    "\n",
    "for i in range(2, n):\n",
    "    f_n = f_0 + f_1\n",
    "    f_0 = f_1 + 0\n",
    "    f_1 = f_n + 0\n",
    "    Fibonacci.append( f_n )\n",
    "    \n",
    "print(\"Fibonacci sequence:\", Fibonacci)"
   ]
  },
  {
   "cell_type": "code",
   "execution_count": null,
   "metadata": {},
   "outputs": [],
   "source": []
  },
  {
   "cell_type": "markdown",
   "metadata": {},
   "source": [
    "# Factorial of a number !\n",
    "\n",
    "For a integer number $n \\in N$, the factorial of $n$ is (n)! equal to the product of all the integer numbers less and equal of $n$:\n",
    "\n",
    "$$ n! = (n)(n-1)(n-2)\\dots (2)(1) $$\n",
    "\n",
    "This function returns the array of all the subproducts of $n$ since $0! = 1, 1! = 1$ until $n!$ for purposes of reusing the subproducts in simplification"
   ]
  },
  {
   "cell_type": "code",
   "execution_count": 12,
   "metadata": {},
   "outputs": [],
   "source": [
    "def factorial(n):\n",
    "    result = 1\n",
    "    factorials = []\n",
    "    for i in range(n):\n",
    "        result *= (i+1)\n",
    "        factorials.append(result)\n",
    "    return factorials"
   ]
  },
  {
   "cell_type": "code",
   "execution_count": 13,
   "metadata": {},
   "outputs": [
    {
     "data": {
      "text/plain": [
       "[1, 2, 6, 24, 120]"
      ]
     },
     "execution_count": 13,
     "metadata": {},
     "output_type": "execute_result"
    }
   ],
   "source": [
    "factorial(5)"
   ]
  },
  {
   "cell_type": "code",
   "execution_count": null,
   "metadata": {},
   "outputs": [],
   "source": []
  },
  {
   "cell_type": "markdown",
   "metadata": {},
   "source": [
    "# Prime factorization\n",
    "\n",
    "Every integer number can be writen as the product of powers of prime numbers. And this prime factorizartion is unique\n",
    "\n",
    "For an integer number $n$:\n",
    "\n",
    "$$ n = p_1^{k_1} p_2^{k_2} \\dots p_m^{k_m} $$\n",
    "\n",
    "for $p_1, p_2 \\dots p_m$ prime numbers and $k_1, k_2 \\dots k_m$ a unique set of integers for $n$.\n",
    "\n",
    "This function returns the prime decomposition of an integer as an array of pairs $(p_i, k_i)$."
   ]
  },
  {
   "cell_type": "code",
   "execution_count": 113,
   "metadata": {},
   "outputs": [],
   "source": [
    "\n",
    "def factorize(number):\n",
    "    factors = []\n",
    "    for i in range(2, number + 1 ):\n",
    "        if not(number % (i) ):\n",
    "            isAPrime = True\n",
    "            for j in factors:\n",
    "                if not((i) % j[0]):\n",
    "                    isAPrime = False\n",
    "            if isAPrime:\n",
    "                exponent = 0\n",
    "                while( not (number % (i**exponent)) ):\n",
    "                    exponent += 1\n",
    "                \n",
    "                factors.append( [i, exponent-1] )\n",
    "    return np.array(factors)"
   ]
  },
  {
   "cell_type": "code",
   "execution_count": 127,
   "metadata": {},
   "outputs": [
    {
     "data": {
      "text/plain": [
       "array([[2, 3],\n",
       "       [3, 1],\n",
       "       [5, 1]])"
      ]
     },
     "execution_count": 127,
     "metadata": {},
     "output_type": "execute_result"
    }
   ],
   "source": [
    "factorization = factorize(120)\n",
    "factorization"
   ]
  },
  {
   "cell_type": "code",
   "execution_count": null,
   "metadata": {},
   "outputs": [],
   "source": []
  },
  {
   "cell_type": "markdown",
   "metadata": {},
   "source": [
    "# Factors of a number\n",
    "\n",
    "The factor of a integer $n$ are all the (less) integers that can divide $n$. And given a prime factorization it can be calculated the total amount of factors of a number by:\n",
    "\n",
    "$$ (k_1 + 1)(k_2 + 1) \\dots (k_m + 1) $$"
   ]
  },
  {
   "cell_type": "code",
   "execution_count": 337,
   "metadata": {},
   "outputs": [],
   "source": [
    "def number_of_factors(n):\n",
    "    factorization = factorize(n)\n",
    "    print(\"Prime factorization:\\n\", factorization)\n",
    "    n_factors = 1\n",
    "    for j in (factorization[:,1] + 1):\n",
    "        n_factors *= j\n",
    "    n_factors\n",
    "    return n_factors"
   ]
  },
  {
   "cell_type": "code",
   "execution_count": 338,
   "metadata": {},
   "outputs": [
    {
     "name": "stdout",
     "output_type": "stream",
     "text": [
      "Prime factorization:\n",
      " [[2 1]\n",
      " [3 1]\n",
      " [5 1]]\n"
     ]
    },
    {
     "data": {
      "text/plain": [
       "8"
      ]
     },
     "execution_count": 338,
     "metadata": {},
     "output_type": "execute_result"
    }
   ],
   "source": [
    "number_of_factors(30)"
   ]
  },
  {
   "cell_type": "code",
   "execution_count": null,
   "metadata": {},
   "outputs": [],
   "source": []
  },
  {
   "cell_type": "code",
   "execution_count": 132,
   "metadata": {},
   "outputs": [],
   "source": [
    "import itertools "
   ]
  },
  {
   "cell_type": "code",
   "execution_count": 335,
   "metadata": {},
   "outputs": [],
   "source": [
    "def multiplyElements(array, factors_temp, factors_current):\n",
    "    \n",
    "    temp_array = []\n",
    "    for i in factors_temp:\n",
    "        for j in factors_current:\n",
    "            mult = i*j\n",
    "            temp_array.append(mult)\n",
    "\n",
    "    concat = np.concatenate([ factors_current, temp_array ])\n",
    "    \n",
    "    if len(array) > 0:\n",
    "        return multiplyElements(array[1:], array[0], concat)\n",
    "    else:\n",
    "        return concat\n",
    "    \n",
    "def findFactors(n):\n",
    "    factorization = factorize(n)\n",
    "    group_factors = []\n",
    "    for prime, power in factorization:\n",
    "        subgroup_factors = []\n",
    "        for exp in range(1, power+1):\n",
    "            subgroup_factors.append(prime**exp)\n",
    "        group_factors.append(subgroup_factors)\n",
    "    \n",
    "    return multiplyElements(group_factors[1:], group_factors[0], [1])"
   ]
  },
  {
   "cell_type": "code",
   "execution_count": 336,
   "metadata": {},
   "outputs": [
    {
     "data": {
      "text/plain": [
       "array([     1,      2,      4,      8,     16,      3,      6,     12,\n",
       "           24,     48,      9,     18,     36,     72,    144,      5,\n",
       "           10,     20,     40,     80,     15,     30,     60,    120,\n",
       "          240,     45,     90,    180,    360,    720,     25,     50,\n",
       "          100,    200,    400,     75,    150,    300,    600,   1200,\n",
       "          225,    450,    900,   1800,   3600,     29,     58,    116,\n",
       "          232,    464,     87,    174,    348,    696,   1392,    261,\n",
       "          522,   1044,   2088,   4176,    145,    290,    580,   1160,\n",
       "         2320,    435,    870,   1740,   3480,   6960,   1305,   2610,\n",
       "         5220,  10440,  20880,    725,   1450,   2900,   5800,  11600,\n",
       "         2175,   4350,   8700,  17400,  34800,   6525,  13050,  26100,\n",
       "        52200, 104400])"
      ]
     },
     "execution_count": 336,
     "metadata": {},
     "output_type": "execute_result"
    }
   ],
   "source": [
    "findFactors(104400)"
   ]
  },
  {
   "cell_type": "code",
   "execution_count": null,
   "metadata": {},
   "outputs": [],
   "source": []
  },
  {
   "cell_type": "markdown",
   "metadata": {},
   "source": [
    "# Digital root\n",
    "\n",
    "Every integer $m$ can be decomposed by the sum of its $n+1$ digits (times powers of 10):\n",
    "\n",
    "$$ m = d_0(10^0) + d_1(10^1) + \\dots d_{n-1}(10^{n-1}) + d_n(10^n) $$\n",
    "\n",
    "The digital root of a number is the sum of all its $n+1$ digits."
   ]
  },
  {
   "cell_type": "code",
   "execution_count": 103,
   "metadata": {},
   "outputs": [],
   "source": [
    "\n",
    "def digitalDecomp(n):\n",
    "    n_digits = int(np.log10(n)) + 1\n",
    "    decomp = []\n",
    "    for i in range(n_digits):\n",
    "        digit = n - (n//10)*10\n",
    "        decomp.append([10**i, digit])\n",
    "        n = int(n / 10)\n",
    "    return np.array(decomp)"
   ]
  },
  {
   "cell_type": "code",
   "execution_count": 107,
   "metadata": {},
   "outputs": [
    {
     "name": "stdout",
     "output_type": "stream",
     "text": [
      "[[    1     3]\n",
      " [   10     7]\n",
      " [  100     1]\n",
      " [ 1000     7]\n",
      " [10000     3]]\n"
     ]
    }
   ],
   "source": [
    "decomp = digitalDecomp(37173)\n",
    "print(decomp)"
   ]
  },
  {
   "cell_type": "code",
   "execution_count": 105,
   "metadata": {},
   "outputs": [],
   "source": [
    "def digitalRoot(number):\n",
    "    decomp = digitalDecomp(number)\n",
    "    digitalSum = sum(decomp[:,1])\n",
    "    if digitalSum > 9:\n",
    "        return digitalRoot(digitalSum)\n",
    "    else:\n",
    "        return digitalSum"
   ]
  },
  {
   "cell_type": "code",
   "execution_count": 109,
   "metadata": {},
   "outputs": [
    {
     "name": "stdout",
     "output_type": "stream",
     "text": [
      "1\n"
     ]
    }
   ],
   "source": [
    "digitalR = digitalRoot(1)\n",
    "print(digitalR)"
   ]
  },
  {
   "cell_type": "code",
   "execution_count": null,
   "metadata": {},
   "outputs": [],
   "source": []
  },
  {
   "cell_type": "code",
   "execution_count": null,
   "metadata": {},
   "outputs": [],
   "source": []
  },
  {
   "cell_type": "code",
   "execution_count": 309,
   "metadata": {},
   "outputs": [],
   "source": []
  },
  {
   "cell_type": "code",
   "execution_count": null,
   "metadata": {},
   "outputs": [],
   "source": []
  }
 ],
 "metadata": {
  "kernelspec": {
   "display_name": "Python 3",
   "language": "python",
   "name": "python3"
  },
  "language_info": {
   "codemirror_mode": {
    "name": "ipython",
    "version": 3
   },
   "file_extension": ".py",
   "mimetype": "text/x-python",
   "name": "python",
   "nbconvert_exporter": "python",
   "pygments_lexer": "ipython3",
   "version": "3.7.2"
  }
 },
 "nbformat": 4,
 "nbformat_minor": 2
}
